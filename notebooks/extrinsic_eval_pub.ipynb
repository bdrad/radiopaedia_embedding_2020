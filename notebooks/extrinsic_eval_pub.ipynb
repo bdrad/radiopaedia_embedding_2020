{
 "cells": [
  {
   "cell_type": "code",
   "execution_count": null,
   "metadata": {},
   "outputs": [],
   "source": [
    "import math\n",
    "import numpy as np\n",
    "\n",
    "def crossvalidation5x2(df,seeds,column,num_dim=4):\n",
    "    \n",
    "    f = lambda x: df[df['embedding'].str.match(x)][[column]].values\n",
    "    p1 = np.zeros((len(seeds),num_dim))\n",
    "    p2 = np.zeros((len(seeds),num_dim))\n",
    "\n",
    "    for i,seed in enumerate(seeds):\n",
    "        #order by seed\n",
    "        #for each seed, there are 4 (one for each dimension), \"a\" and 4 \"b\" for a given model\n",
    "        #5 seeds total, thus 20 entries per model\n",
    "        custom_a_str =\"25full.+\"+seed+\"a\"\n",
    "        custom_b_str = \"25full.+\"+seed+\"b\"\n",
    "        glove_a_str=\"glove.+\"+seed+\"a\"\n",
    "        glove_b_str=\"glove.+\"+seed+\"b\"\n",
    "        \n",
    "        if i == 0:\n",
    "            print(f(custom_a_str))\n",
    "            print(f(glove_a_str))\n",
    "        \n",
    "        \n",
    "        p1[i] = np.squeeze(f(custom_a_str)-f(glove_a_str))\n",
    "        p2[i] = np.squeeze(f(custom_b_str)-f(glove_b_str))\n",
    "\n",
    "    pmean = (p1+p2)/2\n",
    "    variance_list = (p1-pmean)**2+(p2-pmean)**2\n",
    "    variance_means = variance_list.mean(axis=0)\n",
    "    t_list = np.divide(p1[0],np.sqrt(variance_means))\n",
    "    return p1,pmean,variance_means,t_list"
   ]
  },
  {
   "cell_type": "code",
   "execution_count": null,
   "metadata": {},
   "outputs": [],
   "source": [
    "#before running below, load results dataframe with accuracy and ham from model into a dataframe df"
   ]
  },
  {
   "cell_type": "code",
   "execution_count": null,
   "metadata": {},
   "outputs": [],
   "source": [
    "seeds = ['6742404301','491643334','2583619689','9051856379','6961591582']\n",
    "\n",
    "#use t_list in R to determine p-value, will need to run twice: with column = \"accuracy\" and \"ham\"\n",
    "#for two tailed t-test with 5 dof -> pt(c(t_list),5,lower=FALSE)*2 to get p-value for accuracy t_list, lower=TRUE for Hamming\n",
    "p1,pmean,variance_means, t_list = crossvalidation5x2(df,seeds,'accuracy')"
   ]
  },
  {
   "cell_type": "markdown",
   "metadata": {},
   "source": [
    "# Error analysis"
   ]
  },
  {
   "cell_type": "code",
   "execution_count": null,
   "metadata": {},
   "outputs": [],
   "source": [
    "import pickle\n",
    "import pandas as pd\n",
    "\n",
    "class ErrorAnalysis:\n",
    "    def __init__(self,df,seed,dimensions,models):\n",
    "        self.modelstr_list=list()\n",
    "        self.seed = seed\n",
    "        self.df_seed_dict = dict()\n",
    "        self.df_seed_dict_inc = dict()\n",
    "        \n",
    "        for model in models:\n",
    "            for dim in dimensions:\n",
    "                modelstr=model+'.'+str(dim)+'d_'+seed\n",
    "                self.modelstr_list.append(modelstr)\n",
    "                df_match = df[df['embedding'].str.match(modelstr)]\n",
    "                self.df_seed_dict[modelstr]= df_match\n",
    "                self.df_seed_dict_inc[modelstr]=self.filter_incorrect(df_match)\n",
    "        \n",
    "    def filter_incorrect(self,df):\n",
    "        \n",
    "        df_incorrect = pd.DataFrame(columns=df.columns)\n",
    "        \n",
    "        for i,row in df.iterrows():\n",
    "#             #correction for v2 where misc is assigned to zero vector but has no model output\n",
    "#             if not row['pred']:                \n",
    "#                 row['pred']='Misc'\n",
    "            \n",
    "            if set(row['truth']) == set(row['pred']):\n",
    "                continue\n",
    "            else:\n",
    "                df_incorrect = df_incorrect.append(row)\n",
    "                \n",
    "        return df_incorrect\n",
    "                \n",
    "    def mass_csv_export(self,savestr):\n",
    "        writer_full = pd.ExcelWriter(savestr+'_full.xlsx',engine='xlsxwriter')\n",
    "        writer_inc =  pd.ExcelWriter(savestr+'_incorrect.xlsx',engine='xlsxwriter')\n",
    "        \n",
    "        for modelstr in self.modelstr_list:\n",
    "            self.df_seed_dict[modelstr].to_excel(writer_full,sheet_name=modelstr)\n",
    "            self.df_seed_dict_inc[modelstr].to_excel(writer_inc,sheet_name=modelstr)\n",
    "        \n",
    "        writer_full.save()\n",
    "        writer_inc.save()\n",
    "    \n",
    "    def create_label_dict(self,df):\n",
    "        label_numbers = {1, 2, 3, 4, 5, 6, 7, 8, 9, 10, 11, 12, 19}\n",
    "        self.df_bylabel = dict()\n",
    "        for label_num in label_numbers :\n",
    "            self.df_bylabel[label_num] = []\n",
    "            \n",
    "        for index,row in df.iterrows():\n",
    "            self.df_bylabel[row['truth'].count(\",\")+1].append(row)\n",
    "    \n",
    "    def correct_count(self):\n",
    "        label_correct_count=dict()\n",
    "        label_total_count=dict()\n",
    "\n",
    "        for key in self.df_bylabel.keys():\n",
    "            label_correct_count[key]=0\n",
    "            label_total_count[key]=0\n",
    "            \n",
    "            for item in self.df_bylabel[key]:\n",
    "                if(item['truth']==item['pred']):\n",
    "                    label_correct_count[key]+=1\n",
    "                label_total_count[key]+=1\n",
    "        return label_correct_count,label_total_count"
   ]
  },
  {
   "cell_type": "code",
   "execution_count": null,
   "metadata": {},
   "outputs": [],
   "source": [
    "#df_filepath will be path to error analysis pkl from model output\n",
    "\n",
    "with open(df_filepath,\"rb\") as file:\n",
    "             analysis = ErrorAnalysis(pickle.load(file),\n",
    "                         '6742404301a',[50,100,200,300],['glove','25full'])"
   ]
  },
  {
   "cell_type": "code",
   "execution_count": null,
   "metadata": {},
   "outputs": [],
   "source": [
    "for modelstr in analysis.modelstr_list:\n",
    "    empty_pred = 0\n",
    "    for pred in analysis.df_seed_dict[modelstr]['pred']:\n",
    "        if not pred:\n",
    "            empty_pred+=1\n",
    "    print(modelstr)\n",
    "    print(empty_pred)"
   ]
  }
 ],
 "metadata": {
  "kernelspec": {
   "display_name": "Python 3",
   "language": "python",
   "name": "python3"
  },
  "language_info": {
   "codemirror_mode": {
    "name": "ipython",
    "version": 3
   },
   "file_extension": ".py",
   "mimetype": "text/x-python",
   "name": "python",
   "nbconvert_exporter": "python",
   "pygments_lexer": "ipython3",
   "version": "3.7.1"
  }
 },
 "nbformat": 4,
 "nbformat_minor": 4
}
